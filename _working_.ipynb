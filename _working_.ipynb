{
 "cells": [
  {
   "cell_type": "code",
   "execution_count": null,
   "id": "12c03f92",
   "metadata": {},
   "outputs": [],
   "source": [
    "#-*- coding:utf-8 -*-\n",
    "from commonTool import *\n"
   ]
  },
  {
   "cell_type": "code",
   "execution_count": null,
   "id": "b8dbd86a",
   "metadata": {},
   "outputs": [],
   "source": [
    "scriptRoot = crawlegoScriptPath + 'Analysis/'\n",
    "\n",
    "analSummaryPath = temporaryPath + 'variance/'\n",
    "analDataPath = temporaryPath + 'variance/data/'\n",
    "analResultPath = temporaryPath + 'variance/result/'\n",
    "analSuggestPath = temporaryPath + 'variance/suggest/'\n",
    "\n",
    "if runServerType == 1:\n",
    "    scriptRoot = crawlegoScriptPath + 'Analysis\\\\'\n",
    "    analSummaryPath = temporaryPath + 'variance\\\\'\n",
    "    analDataPath = temporaryPath + 'variance\\\\data\\\\'\n",
    "    analResultPath = temporaryPath + 'variance\\\\result\\\\'\n",
    "    analSuggestPath = temporaryPath + 'variance\\\\suggest\\\\'\n"
   ]
  },
  {
   "cell_type": "code",
   "execution_count": null,
   "id": "bb646945",
   "metadata": {},
   "outputs": [],
   "source": []
  },
  {
   "cell_type": "code",
   "execution_count": null,
   "id": "9b1abe6b",
   "metadata": {},
   "outputs": [],
   "source": [
    "scriptPathName = scriptRoot + 'ANAL_PRICE-v0.21.xml'\n",
    "\n",
    "cf = open(resourceDir + 'companyCodes.txt', 'r', encoding='utf-8')\n",
    "\n",
    "lineText = cf.readline() # 제목: P_CODE, TERM, 자산총계, 시가총액_억, RANK_시가총액, RISK, 거래량, 매수일, 종목명, 매수가, 매도일, 매도가\n",
    "\n",
    "while True:\n",
    "    lineText = cf.readline()\n",
    "    if not lineText:\n",
    "        break\n",
    "        \n",
    "    lineText = lineText.strip()\n",
    "    if len(lineText) <= 0:\n",
    "        continue\n",
    "\n",
    "    # 0.P_CODE, 8.종목명\n",
    "    compData = lineText.split('\\t')\n",
    "    \n",
    "    parameter = {\n",
    "        'OUT_PATH': analDataPath,\n",
    "        'PCODE': compData[0]\n",
    "    }\n",
    "\n",
    "    print(compData[8], 'variance data', runDashScript(scriptPathName, parameter, False))\n",
    "\n",
    "\n",
    "cf.close()"
   ]
  },
  {
   "cell_type": "code",
   "execution_count": null,
   "id": "a3a4797f",
   "metadata": {},
   "outputs": [],
   "source": []
  },
  {
   "cell_type": "code",
   "execution_count": null,
   "id": "484ee6e7",
   "metadata": {},
   "outputs": [],
   "source": [
    "scriptPathName = scriptRoot + 'ANAL_PRICE-v0.22.xml'\n",
    "\n",
    "cf = open(resourceDir + 'companyCodes.txt', 'r', encoding='utf-8')\n",
    "\n",
    "lineText = cf.readline() # 제목: P_CODE, TERM, 자산총계, 시가총액_억, RANK_시가총액, RISK, 거래량, 매수일, 종목명, 매수가, 매도일, 매도가\n",
    "\n",
    "while True:\n",
    "    lineText = cf.readline()\n",
    "    if not lineText:\n",
    "        break\n",
    "        \n",
    "    lineText = lineText.strip()\n",
    "    if len(lineText) <= 0:\n",
    "        continue\n",
    "\n",
    "    # 0.P_CODE, 8.종목명\n",
    "    compData = lineText.split('\\t')\n",
    "    \n",
    "    parameter = {\n",
    "        'DATA_PATH': analDataPath,\n",
    "        'OUT_PATH': analResultPath,\n",
    "        'PCODE': compData[0]\n",
    "    }\n",
    "\n",
    "    print(compData[8], 'variance data', runDashScript(scriptPathName, parameter, False))\n",
    "\n",
    "\n",
    "cf.close()"
   ]
  },
  {
   "cell_type": "code",
   "execution_count": null,
   "id": "1fe1a6f0",
   "metadata": {},
   "outputs": [],
   "source": [
    "scriptPathName = scriptRoot + 'ANAL_PRICE-v0.28.xml'\n",
    "\n",
    "parameter = {\n",
    "    'DATA_PATH': analResultPath,\n",
    "    'OUT_PATH': analSummaryPath\n",
    "}\n",
    "\n",
    "print(compData[8], 'merging data', runDashScript(scriptPathName, parameter, False))"
   ]
  },
  {
   "cell_type": "code",
   "execution_count": null,
   "id": "017e11ea",
   "metadata": {},
   "outputs": [],
   "source": [
    "scriptPathName = scriptRoot + 'ANAL_PRICE-v0.29.xml'\n",
    "\n",
    "parameter = {\n",
    "    'DATA_PATH': analSummaryPath,\n",
    "    'OUT_PATH': analSuggestPath,\n",
    "    'TARGET_DAY': '2022-11-10'\n",
    "}\n",
    "\n",
    "print(compData[8], 'suggest data', runDashScript(scriptPathName, parameter, False))"
   ]
  },
  {
   "cell_type": "code",
   "execution_count": null,
   "id": "226c4759",
   "metadata": {},
   "outputs": [],
   "source": []
  }
 ],
 "metadata": {
  "kernelspec": {
   "display_name": "Python 3 (ipykernel)",
   "language": "python",
   "name": "python3"
  },
  "language_info": {
   "codemirror_mode": {
    "name": "ipython",
    "version": 3
   },
   "file_extension": ".py",
   "mimetype": "text/x-python",
   "name": "python",
   "nbconvert_exporter": "python",
   "pygments_lexer": "ipython3",
   "version": "3.9.12"
  }
 },
 "nbformat": 4,
 "nbformat_minor": 5
}
