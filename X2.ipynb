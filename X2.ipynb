{
 "cells": [
  {
   "cell_type": "code",
   "execution_count": 24,
   "metadata": {},
   "outputs": [],
   "source": [
    "#!/usr/bin/env python\n",
    "# coding: utf-8\n",
    "\n",
    "# In[1]:\n",
    "\n",
    "\n",
    "import os\n",
    "import re"
   ]
  },
  {
   "cell_type": "code",
   "execution_count": 10,
   "metadata": {},
   "outputs": [],
   "source": [
    "# Naver 금융 속성값 명칭 변환 사전\n",
    "dictColumn = {\n",
    "    \"매출액\": \"매출액(수익)\",\n",
    "    \"-매출원가\": \"매출원가\",\n",
    "    \"=매출총이익\": \"매출총이익\",\n",
    "    \"-판매비와관리비\": \"판매비와관리비\",\n",
    "    \"=영업이익\": \"영업이익\",\n",
    "    \"(금융손익)\": \"금융수익 - 금융원가\",\n",
    "    \"(관계기업손익)\": \"종속기업,공동지배기업및관계기업관련손익\",\n",
    "    \"=세전순익\": \"법인세비용차감전계속사업이익\",\n",
    "    \"-법인세\": \"법인세비용\",\n",
    "    \"=순이익\": \"당기순이익\",\n",
    "    \"지배주주순익\": \"당기순이익/(지배주주지분)당기순이익\",\n",
    "    \"비지배주주순익\": \"당기순이익/(비지배주주지분)당기순이익\",\n",
    "    \"매출원가비중\": \"매출원가/매출액(수익)*100\",\n",
    "    \"매출총이익율\": \"매출총이익/매출액(수익)*100\",\n",
    "    \"판관비율\": \"판매비와관리비/매출액(수익)*100\",\n",
    "    \"영업이익률\": \"영업이익/매출액(수익)*100\",\n",
    "    \"지배주주순이익률\": \"지배주주순익/매출액(수익)*100\",\n",
    "    \"영업활동현금흐름\": \"영업활동으로인한현금흐름\",\n",
    "    \"당기순이익\": \"당기순이익\",\n",
    "    \"감가상각비\": \"판매비와관리비/(감가상각비+기타무형자산상각비)\",\n",
    "    \"투자활동현금흐름\": \"투자활동으로인한현금흐름\",\n",
    "    \"재무활동현금흐름\": \"재무활동으로인한현금흐름\",\n",
    "    \"1. 유동자산\": \"유동자산\",\n",
    "    \"현금성자산\": \"현금및현금성자산\",\n",
    "    \"매출채권\": \"매출채권및기타채권/매출채권\",\n",
    "    \"재고자산\": \"재고자산\",\n",
    "    \"2. 비유동자산\": \"비유동자산\",\n",
    "    \"유형자산\": \"유형자산\",\n",
    "    \"무형자산\": \"무형자산\",\n",
    "    \"* 지분투자\": \"관계기업등지분관련투자자산\",\n",
    "    \"1+2= 총자산\": \"자산총계\",\n",
    "    \"매입채무\": \"매입채무및기타채무/매입채무\",\n",
    "    \"차입금\": \"이자발생부채\",\n",
    "    \"부채총계\": \"부채총계\",\n",
    "    \"자본총계\": \"자본총계\",\n",
    "    \"지배주주지분\": \"지배주주지분\"\n",
    "}\n",
    "\n",
    "dataBlock = [[13, 27], [30, 51], [54, 72], [75, 100]]"
   ]
  },
  {
   "cell_type": "code",
   "execution_count": 8,
   "metadata": {},
   "outputs": [],
   "source": [
    "rawDir = \"/Users/TurboK/OneDrive/krx/bs\"\n",
    "\n",
    "fileNames = os.listdir(rawDir)\n",
    "codeList = [name[:-4] for name in fileNames if name.endswith('.csv')]"
   ]
  },
  {
   "cell_type": "code",
   "execution_count": 25,
   "metadata": {},
   "outputs": [],
   "source": [
    "# 파일을 읽어 Array 형태로 반환\n",
    "def readFile(code, dataPath):\n",
    "    pathName = os.path.join(dataPath, code + '.csv')\n",
    "    \n",
    "    f = open(pathName, 'r', encoding='utf-8')\n",
    "\n",
    "    lineNo = 0\n",
    "    records = []\n",
    "    while True:\n",
    "        lineNo += 1\n",
    "        lineText = f.readline()\n",
    "        if not lineText:\n",
    "            break\n",
    "        records.append( lineText.strip().split(',') )\n",
    "\n",
    "    f.close()\n",
    "    \n",
    "    return records\n",
    "\n",
    "\n",
    "# 실수 판단\n",
    "def isReal(s):\n",
    "    try:\n",
    "        float(s)\n",
    "        return True\n",
    "    except ValueError:\n",
    "        return False\n"
   ]
  },
  {
   "cell_type": "code",
   "execution_count": 31,
   "metadata": {},
   "outputs": [
    {
     "name": "stdout",
     "output_type": "stream",
     "text": [
      "done!\n"
     ]
    }
   ],
   "source": [
    "# 데이터 저장용 파일 생성\n",
    "outPath = \"/Users/TurboK/OneDrive/krx/bsmerge\"\n",
    "outFiles = []\n",
    "\n",
    "records = readFile(codeList[0], rawDir)\n",
    "\n",
    "columns = []\n",
    "for block in dataBlock:\n",
    "    for i in range(block[0], block[1] + 1):\n",
    "        tmpStr = records[i][1].strip()\n",
    "        columns.append(dictColumn[tmpStr] if tmpStr in dictColumn else tmpStr)\n",
    "\n",
    "columnNames = \"\\t\".join(columns)\n",
    "for y in range(12, 21):\n",
    "    o = open(os.path.join(outPath, str(2000 + y) + \"-cfp-qk.txt\"), \"w\")\n",
    "    o.write(\"code\\t\")\n",
    "    o.write(columnNames)\n",
    "    o.write(\"\\n\")\n",
    "    outFiles.append(o)\n",
    "    \n",
    "    \n",
    "# 데이터 합쳐 저장하기\n",
    "for code in codeList:\n",
    "    records = readFile(code, rawDir)\n",
    "    \n",
    "    for y in range(0, 9):\n",
    "        o = outFiles[y]\n",
    "        \n",
    "        o.write(code)\n",
    "        for block in dataBlock:\n",
    "            for i in range(block[0], block[1] + 1):\n",
    "                tmpStr = records[i][y + 2].strip()\n",
    "                o.write(\"\\t\")\n",
    "                o.write(tmpStr if isReal(tmpStr) else \"\")\n",
    "        o.write(\"\\n\")\n",
    "\n",
    "\n",
    "# 데이터 저장용 파일 닫기\n",
    "for o in outFiles:\n",
    "    o.close()\n",
    "outFiles = []\n",
    "\n",
    "print(\"done!\")"
   ]
  },
  {
   "cell_type": "code",
   "execution_count": 28,
   "metadata": {},
   "outputs": [
    {
     "data": {
      "text/plain": [
       "True"
      ]
     },
     "execution_count": 28,
     "metadata": {},
     "output_type": "execute_result"
    }
   ],
   "source": [
    "isReal(\"10.11\")"
   ]
  },
  {
   "cell_type": "code",
   "execution_count": null,
   "metadata": {},
   "outputs": [],
   "source": []
  },
  {
   "cell_type": "code",
   "execution_count": 5,
   "metadata": {},
   "outputs": [
    {
     "name": "stdout",
     "output_type": "stream",
     "text": [
      "101 ['', '넥스틴', 'A348210', '58500', '5595', '', '컨센서스', '124', '35', '60', '', '', '', '', '', '', '', '', '', '', '', '']\n"
     ]
    }
   ],
   "source": [
    "code = codeList[0];\n",
    "\n",
    "pathName = os.path.join(rawDir, code + '.csv')\n",
    "\n",
    "f = open(pathName, 'r', encoding='utf-8')\n",
    "\n",
    "lineNo = 0\n",
    "records = []\n",
    "while True:\n",
    "    lineNo += 1\n",
    "    lineText = f.readline()\n",
    "    if not lineText:\n",
    "        break\n",
    "    records.append( lineText.strip().split(',') )\n",
    "    # print(lineNo, records)\n",
    "\n",
    "f.close()\n",
    "\n",
    "print(len(records), records[2])"
   ]
  },
  {
   "cell_type": "code",
   "execution_count": 4,
   "metadata": {},
   "outputs": [
    {
     "name": "stdout",
     "output_type": "stream",
     "text": [
      "['', ' 자본총계(개별)', '0', '0', '109.05', '97.74', '72.97', '-79.21', '34.8', '15.53', '457', '0', '0', '', ' 자본총계(개별)', '15.53', '0', '89.06', '387.46', '457', '0', '0']\n"
     ]
    }
   ],
   "source": [
    "print(records)"
   ]
  },
  {
   "cell_type": "code",
   "execution_count": null,
   "metadata": {},
   "outputs": [],
   "source": []
  }
 ],
 "metadata": {
  "kernelspec": {
   "display_name": "Python 3",
   "language": "python",
   "name": "python3"
  },
  "language_info": {
   "codemirror_mode": {
    "name": "ipython",
    "version": 3
   },
   "file_extension": ".py",
   "mimetype": "text/x-python",
   "name": "python",
   "nbconvert_exporter": "python",
   "pygments_lexer": "ipython3",
   "version": "3.7.6"
  }
 },
 "nbformat": 4,
 "nbformat_minor": 5
}
