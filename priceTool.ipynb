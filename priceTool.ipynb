{
 "cells": [
  {
   "cell_type": "code",
   "execution_count": 6,
   "metadata": {},
   "outputs": [],
   "source": [
    "#-*- coding:utf-8 -*-\n",
    "from commonTool import *\n",
    "from config import *\n",
    "\n",
    "import sys\n",
    "\n",
    "\n",
    "def runDashScript(scriptPathName, parameter):\n",
    "    optionStr = ''\n",
    "    for key in parameter:\n",
    "        optionStr += ' ' + key + '=' + parameter[key]\n",
    "        \n",
    "    cmdStr = 'java -Dfile.encoding=utf8 -Duser.timezone=GMT -jar ' + crawlegoPath + ' ' + scriptPathName + optionStr\n",
    "    print(cmdStr, flush=True)\n",
    "    retCode = os.system(cmdStr)\n",
    "    \n",
    "    return retCode\n"
   ]
  },
  {
   "cell_type": "code",
   "execution_count": null,
   "metadata": {},
   "outputs": [],
   "source": []
  },
  {
   "cell_type": "code",
   "execution_count": null,
   "metadata": {},
   "outputs": [],
   "source": [
    "# file: dailyPrice.py\n",
    "\n",
    "# KRX에서 지정한 날짜의 주가를 크롤링해 날짜별로 저장\n",
    "# beginDay[, endDay] 지정 가능. 없으면 조회 날짜의 주가 크롤링\n",
    "\n",
    "def writeDailyPrice(dayNo):\n",
    "    outputDirPath = outputRawPath + 'priceDaily' + os.path.sep + dayNo[0:4] + os.path.sep\n",
    "    mkdir(outputDirPath)\n",
    "\n",
    "    print('Day', dayNo, 'Output Folder:', outputDirPath, flush=True)\n",
    "    writeDailyPriceFromKRX(dayNo, outputDirPath)\n",
    "    \n",
    "\n",
    "jobName = 'get daily price'\n",
    "begin(jobName)\n",
    "\n",
    "d = dt.datetime.today()\n",
    "\n",
    "beginDay = d.strftime('%Y%m%d')\n",
    "if len(sys.argv) >= 2 and len(sys.argv[1]) == 8:\n",
    "    beginDay = sys.argv[1]\n",
    "    d = dt.datetime.strptime(beginDay, '%Y%m%d').date()\n",
    "    \n",
    "endDay = beginDay\n",
    "if len(sys.argv) >= 3 and len(sys.argv[2]) == 8:\n",
    "    endDay = sys.argv[2]\n",
    "\n",
    "print('range', beginDay, endDay)\n",
    "\n",
    "while beginDay <= endDay:\n",
    "    writeDailyPrice(beginDay)\n",
    "    d = d + dt.timedelta(days=1)\n",
    "    beginDay = d.strftime('%Y%m%d')\n",
    "\n",
    "end(jobName)\n"
   ]
  },
  {
   "cell_type": "code",
   "execution_count": null,
   "metadata": {},
   "outputs": [],
   "source": []
  },
  {
   "cell_type": "code",
   "execution_count": null,
   "metadata": {},
   "outputs": [],
   "source": [
    "# file: adjPriceYear.py\n",
    "# Naver에서 수정주가를 년단위로 조회하여 저장\n",
    "\n",
    "def writeAdjustPrice(codes, year, outFile):\n",
    "    noLine = 0\n",
    "    for code in codes:\n",
    "        sTick = tm.time()\n",
    "        noLine += 1\n",
    "        print(noLine, code,'processing', flush=True)\n",
    "        \n",
    "        beginDay = year + '0101'\n",
    "        endDay = year + '1231'\n",
    "\n",
    "        # resp = fetchMonthStockData(code, beginDay, endDay)\n",
    "        resp = fetchDailyStockData(code, beginDay, endDay)\n",
    "\n",
    "        writeStockData(code, outFile, resp)\n",
    "\n",
    "        print(noLine, code,'done', tm.time() - sTick, flush=True)\n",
    "\n",
    "\n",
    "jobName = 'get adjust price'\n",
    "begin(jobName)\n",
    "\n",
    "(codes, types, referCodes) = getCompanyCodeFromFile(codePathFile)\n",
    "print('codes', len(codes), len(types), len(referCodes)) # 첫 번째, 두 번째 값 같아야 함.\n",
    "\n",
    "\n",
    "d = dt.datetime.today()\n",
    "year = d.strftime('%Y')\n",
    "\n",
    "if len(sys.argv) >= 2 and len(sys.argv[1]) == 4:\n",
    "    year = sys.argv[1]\n",
    "\n",
    "print('Fetching Year', year, flush=True)\n",
    "\n",
    "\n",
    "outputDirPath = outputRawPath + 'adjustPrice' + os.path.sep\n",
    "mkdir(outputDirPath)\n",
    "\n",
    "outputDirPath += 'adjDailyPrice-' + year + '.csv'\n",
    "\n",
    "outFile = open(outputDirPath, 'w', encoding='utf-8')\n",
    "outFile.write('종목코드, 날짜, 시가, 고가, 저가, 종가, 거래량, 외국인소진율\\n');\n",
    "\n",
    "writeAdjustPrice(codes, year, outFile)\n",
    "\n",
    "outFile.close()\n",
    "\n",
    "end(jobName)\n",
    "    "
   ]
  },
  {
   "cell_type": "code",
   "execution_count": null,
   "metadata": {},
   "outputs": [],
   "source": []
  },
  {
   "cell_type": "code",
   "execution_count": 7,
   "metadata": {},
   "outputs": [
    {
     "name": "stdout",
     "output_type": "stream",
     "text": [
      ">>>>>>> upload price info to db started\n",
      "java -Dfile.encoding=utf8 -Duser.timezone=GMT -jar D:\\work\\jupyter\\krx\\jar\\crawlego-1.0.0.jar D:\\work\\jupyter\\krx\\script\\UPLOAD-PRICE.xml YEAR=2021 ADJ_PATH=D:\\work\\jupyter\\krx\\output\\adjustPrice\\adjDailyPrice KRX_PATH=D:\\work\\jupyter\\krx\\output\\priceDaily\\2021\\ DO_SERVER=13.124.29.70\n"
     ]
    },
    {
     "ename": "KeyboardInterrupt",
     "evalue": "",
     "output_type": "error",
     "traceback": [
      "\u001b[1;31m---------------------------------------------------------------------------\u001b[0m",
      "\u001b[1;31mKeyboardInterrupt\u001b[0m                         Traceback (most recent call last)",
      "\u001b[1;32m<ipython-input-7-cb4d3d740349>\u001b[0m in \u001b[0;36m<module>\u001b[1;34m\u001b[0m\n\u001b[0;32m     12\u001b[0m }\n\u001b[0;32m     13\u001b[0m \u001b[1;33m\u001b[0m\u001b[0m\n\u001b[1;32m---> 14\u001b[1;33m \u001b[0mretCode\u001b[0m \u001b[1;33m=\u001b[0m \u001b[0mrunDashScript\u001b[0m\u001b[1;33m(\u001b[0m\u001b[0mscriptPathName\u001b[0m\u001b[1;33m,\u001b[0m \u001b[0mparameter\u001b[0m\u001b[1;33m)\u001b[0m\u001b[1;33m\u001b[0m\u001b[1;33m\u001b[0m\u001b[0m\n\u001b[0m\u001b[0;32m     15\u001b[0m \u001b[1;33m\u001b[0m\u001b[0m\n\u001b[0;32m     16\u001b[0m \u001b[0mend\u001b[0m\u001b[1;33m(\u001b[0m\u001b[0mjobName\u001b[0m\u001b[1;33m)\u001b[0m\u001b[1;33m\u001b[0m\u001b[1;33m\u001b[0m\u001b[0m\n",
      "\u001b[1;32m<ipython-input-6-28905d8b32b4>\u001b[0m in \u001b[0;36mrunDashScript\u001b[1;34m(scriptPathName, parameter)\u001b[0m\n\u001b[0;32m     13\u001b[0m     \u001b[0mcmdStr\u001b[0m \u001b[1;33m=\u001b[0m \u001b[1;34m'java -Dfile.encoding=utf8 -Duser.timezone=GMT -jar '\u001b[0m \u001b[1;33m+\u001b[0m \u001b[0mcrawlegoPath\u001b[0m \u001b[1;33m+\u001b[0m \u001b[1;34m' '\u001b[0m \u001b[1;33m+\u001b[0m \u001b[0mscriptPathName\u001b[0m \u001b[1;33m+\u001b[0m \u001b[0moptionStr\u001b[0m\u001b[1;33m\u001b[0m\u001b[1;33m\u001b[0m\u001b[0m\n\u001b[0;32m     14\u001b[0m     \u001b[0mprint\u001b[0m\u001b[1;33m(\u001b[0m\u001b[0mcmdStr\u001b[0m\u001b[1;33m,\u001b[0m \u001b[0mflush\u001b[0m\u001b[1;33m=\u001b[0m\u001b[1;32mTrue\u001b[0m\u001b[1;33m)\u001b[0m\u001b[1;33m\u001b[0m\u001b[1;33m\u001b[0m\u001b[0m\n\u001b[1;32m---> 15\u001b[1;33m     \u001b[0mretCode\u001b[0m \u001b[1;33m=\u001b[0m \u001b[0mos\u001b[0m\u001b[1;33m.\u001b[0m\u001b[0msystem\u001b[0m\u001b[1;33m(\u001b[0m\u001b[0mcmdStr\u001b[0m\u001b[1;33m)\u001b[0m\u001b[1;33m\u001b[0m\u001b[1;33m\u001b[0m\u001b[0m\n\u001b[0m\u001b[0;32m     16\u001b[0m \u001b[1;33m\u001b[0m\u001b[0m\n\u001b[0;32m     17\u001b[0m     \u001b[1;32mreturn\u001b[0m \u001b[0mretCode\u001b[0m\u001b[1;33m\u001b[0m\u001b[1;33m\u001b[0m\u001b[0m\n",
      "\u001b[1;31mKeyboardInterrupt\u001b[0m: "
     ]
    }
   ],
   "source": [
    "# file: uploadPrice.py [year]\n",
    "\n",
    "jobName = 'upload price info to db'\n",
    "begin(jobName)\n",
    "\n",
    "year = today()[0:4]\n",
    "\n",
    "if len(sys.argv) >= 2 and len(sys.argv[1]) == 4:\n",
    "    year = sys.argv[1]\n",
    "\n",
    "scriptPathName = crawlegoScriptPath + 'UPLOAD-PRICE.xml'\n",
    "\n",
    "parameter = {\n",
    "    'YEAR': year,\n",
    "    'ADJ_PATH': outputRawPath + 'adjustPrice' + os.path.sep + 'adjDailyPrice',\n",
    "    'KRX_PATH': outputRawPath + 'priceDaily' + os.path.sep + year + os.path.sep,\n",
    "    'DO_SERVER': '13.124.29.70'\n",
    "}\n",
    "\n",
    "retCode = runDashScript(scriptPathName, parameter)\n",
    "\n",
    "end(jobName)"
   ]
  },
  {
   "cell_type": "code",
   "execution_count": 8,
   "metadata": {},
   "outputs": [
    {
     "data": {
      "text/plain": [
       "'2021-06-17'"
      ]
     },
     "execution_count": 8,
     "metadata": {},
     "output_type": "execute_result"
    }
   ],
   "source": [
    "today()"
   ]
  },
  {
   "cell_type": "code",
   "execution_count": null,
   "metadata": {},
   "outputs": [],
   "source": []
  }
 ],
 "metadata": {
  "kernelspec": {
   "display_name": "Python 3",
   "language": "python",
   "name": "python3"
  },
  "language_info": {
   "codemirror_mode": {
    "name": "ipython",
    "version": 3
   },
   "file_extension": ".py",
   "mimetype": "text/x-python",
   "name": "python",
   "nbconvert_exporter": "python",
   "pygments_lexer": "ipython3",
   "version": "3.7.6"
  }
 },
 "nbformat": 4,
 "nbformat_minor": 4
}
