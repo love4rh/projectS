{
 "cells": [
  {
   "cell_type": "code",
   "execution_count": 1,
   "metadata": {},
   "outputs": [
    {
     "name": "stdout",
     "output_type": "stream",
     "text": [
      "running on Windows\n"
     ]
    }
   ],
   "source": [
    "#-*- coding:utf-8 -*-\n",
    "from commonTool import *\n"
   ]
  },
  {
   "cell_type": "code",
   "execution_count": null,
   "metadata": {},
   "outputs": [],
   "source": []
  },
  {
   "cell_type": "code",
   "execution_count": null,
   "metadata": {},
   "outputs": [],
   "source": [
    "# file: dailyPrice.py\n",
    "\n",
    "# KRX에서 지정한 날짜의 주가를 크롤링해 날짜별로 저장\n",
    "# beginDay[, endDay] 지정 가능. 없으면 조회 날짜의 주가 크롤링\n",
    "\n",
    "def writeDailyPrice(dayNo):\n",
    "    outputDirPath = outputRawPath + 'priceDaily' + os.path.sep + dayNo[0:4] + os.path.sep\n",
    "    mkdir(outputDirPath)\n",
    "\n",
    "    print('Day', dayNo, 'Output Folder:', outputDirPath, flush=True)\n",
    "    writeDailyPriceFromKRX(dayNo, outputDirPath)\n",
    "    \n",
    "\n",
    "jobName = 'get daily price'\n",
    "begin(jobName)\n",
    "\n",
    "d = dt.datetime.today()\n",
    "\n",
    "beginDay = d.strftime('%Y%m%d')\n",
    "if len(sys.argv) >= 2 and len(sys.argv[1]) == 8:\n",
    "    beginDay = sys.argv[1]\n",
    "    d = dt.datetime.strptime(beginDay, '%Y%m%d').date()\n",
    "    \n",
    "endDay = beginDay\n",
    "if len(sys.argv) >= 3 and len(sys.argv[2]) == 8:\n",
    "    endDay = sys.argv[2]\n",
    "\n",
    "print('range', beginDay, endDay)\n",
    "\n",
    "while beginDay <= endDay:\n",
    "    writeDailyPrice(beginDay)\n",
    "    d = d + dt.timedelta(days=1)\n",
    "    beginDay = d.strftime('%Y%m%d')\n",
    "\n",
    "end(jobName)\n"
   ]
  },
  {
   "cell_type": "code",
   "execution_count": null,
   "metadata": {},
   "outputs": [],
   "source": []
  },
  {
   "cell_type": "code",
   "execution_count": null,
   "metadata": {},
   "outputs": [],
   "source": [
    "# file: adjPriceYear.py\n",
    "# Naver에서 수정주가를 년단위로 조회하여 저장\n",
    "\n",
    "def writeAdjustPrice(codes, year, outFile):\n",
    "    noLine = 0\n",
    "    for code in codes:\n",
    "        sTick = tm.time()\n",
    "        noLine += 1\n",
    "        print(noLine, code,'processing', flush=True)\n",
    "        \n",
    "        beginDay = year + '0101'\n",
    "        endDay = year + '1231'\n",
    "\n",
    "        # resp = fetchMonthStockData(code, beginDay, endDay)\n",
    "        resp = fetchDailyStockData(code, beginDay, endDay)\n",
    "\n",
    "        writeStockData(code, outFile, resp)\n",
    "\n",
    "        print(noLine, code,'done', tm.time() - sTick, flush=True)\n",
    "\n",
    "\n",
    "jobName = 'get adjust price'\n",
    "begin(jobName)\n",
    "\n",
    "(codes, types, referCodes) = getCompanyCodeFromFile(codePathFile)\n",
    "print('codes', len(codes), len(types), len(referCodes)) # 첫 번째, 두 번째 값 같아야 함.\n",
    "\n",
    "\n",
    "d = dt.datetime.today()\n",
    "year = d.strftime('%Y')\n",
    "\n",
    "if len(sys.argv) >= 2 and len(sys.argv[1]) == 4:\n",
    "    year = sys.argv[1]\n",
    "\n",
    "print('Fetching Year', year, flush=True)\n",
    "\n",
    "\n",
    "outputDirPath = outputRawPath + 'adjustPrice' + os.path.sep\n",
    "mkdir(outputDirPath)\n",
    "\n",
    "outputDirPath += 'adjDailyPrice-' + year + '.csv'\n",
    "\n",
    "outFile = open(outputDirPath, 'w', encoding='utf-8')\n",
    "outFile.write('종목코드, 날짜, 시가, 고가, 저가, 종가, 거래량, 외국인소진율\\n');\n",
    "\n",
    "writeAdjustPrice(codes, year, outFile)\n",
    "\n",
    "outFile.close()\n",
    "\n",
    "end(jobName)\n",
    "    "
   ]
  },
  {
   "cell_type": "code",
   "execution_count": null,
   "metadata": {},
   "outputs": [],
   "source": []
  },
  {
   "cell_type": "code",
   "execution_count": null,
   "metadata": {},
   "outputs": [],
   "source": [
    "# file: uploadPrice.py [year]\n",
    "\n",
    "jobName = 'upload price info to db'\n",
    "begin(jobName)\n",
    "\n",
    "year = today()[0:4]\n",
    "\n",
    "if len(sys.argv) >= 2 and len(sys.argv[1]) == 4:\n",
    "    year = sys.argv[1]\n",
    "\n",
    "scriptPathName = crawlegoScriptPath + 'UPLOAD-PRICE.xml'\n",
    "\n",
    "parameter = {\n",
    "    'YEAR': year,\n",
    "    'ADJ_PATH': outputRawPath + 'adjustPrice' + os.path.sep + 'adjDailyPrice',\n",
    "    'KRX_PATH': outputRawPath + 'priceDaily' + os.path.sep + year + os.path.sep,\n",
    "    'DO_SERVER': '13.124.29.70'\n",
    "}\n",
    "\n",
    "retCode = runDashScript(scriptPathName, parameter)\n",
    "\n",
    "end(jobName)"
   ]
  },
  {
   "cell_type": "code",
   "execution_count": null,
   "metadata": {},
   "outputs": [],
   "source": []
  },
  {
   "cell_type": "code",
   "execution_count": null,
   "metadata": {},
   "outputs": [],
   "source": [
    "# SP-1. 워킹 데이만 뽑아 저장하는 스크립트 실행\n",
    "workingDayPath = 'D:\\\\work\\\\jupyter\\\\krx\\output\\\\workingDay\\\\'\n",
    "\n",
    "scriptPathName = crawlegoScriptPath + 'ZTMP_DATE.xml'\n",
    "for year in range(2012, 2022):\n",
    "    parameter = {\n",
    "        'YEAR': str(year),\n",
    "        'OUT_PATH': workingDayPath,\n",
    "        'DO_SERVER': '13.124.29.70'\n",
    "    }\n",
    "\n",
    "    print(year, 'ret code', runDashScript(scriptPathName, parameter))"
   ]
  },
  {
   "cell_type": "code",
   "execution_count": 3,
   "metadata": {},
   "outputs": [
    {
     "name": "stdout",
     "output_type": "stream",
     "text": [
      "java -Dfile.encoding=utf8 -Duser.timezone=GMT -jar D:\\work\\jupyter\\krx\\jar\\crawlego-1.0.0.jar D:\\work\\jupyter\\krx\\script\\ZTMP_DATE_MINMAX.xml IN_PATH=D:\\work\\jupyter\\krx\\output\\workingDay\\ OUT_PATH=D:\\work\\jupyter\\krx\\resource\\\n",
      "ret code 0\n"
     ]
    }
   ],
   "source": [
    "# SP-2. 워킹 데이 중 달별로 기준일 추출하는 스크립트 실행\n",
    "# 매달 첫 째날, 둘 째날, 마지막 날, 마지막 전날 총 4일을 저장함\n",
    "# resourceDir에 BASIS_DAYs.txt와 주가 쿼리를 위한 날짜 조건을 담고 있는 BASIS-CONDITION.txt 파일 생성\n",
    "\n",
    "scriptPathName = crawlegoScriptPath + 'ZTMP_DATE_MINMAX.xml'\n",
    "parameter = {\n",
    "    'IN_PATH': workingDayPath,\n",
    "    'OUT_PATH': resourceDir\n",
    "}\n",
    "\n",
    "print('ret code', runDashScript(scriptPathName, parameter))"
   ]
  },
  {
   "cell_type": "code",
   "execution_count": 6,
   "metadata": {},
   "outputs": [
    {
     "name": "stdout",
     "output_type": "stream",
     "text": [
      "java -Dfile.encoding=utf8 -Duser.timezone=GMT -jar D:\\work\\jupyter\\krx\\jar\\crawlego-1.0.0.jar D:\\work\\jupyter\\krx\\script\\ZTMP_STOCK_PRICE.xml YEAR=2021 OUT_PATH=D:\\work\\jupyter\\krx\\intermediate\\ COND='20210104','20210105','20210128','20210129','20210201','20210202','20210225','20210226','20210302','20210303','20210330','20210331','20210401','20210402','20210429','20210430','20210503','20210504','20210528','20210531','20210601','20210602','20210617','20210618' DO_SERVER=13.124.29.70\n",
      "2021 ret code 0\n"
     ]
    }
   ],
   "source": [
    "# SP-3. SP-2의 BASIS-CONDITION.txt 파일을 읽어 해당 날짜의 주가를 쿼리하여 임시폴더에 저장함.\n",
    "\n",
    "scriptPathName = crawlegoScriptPath + 'ZTMP_STOCK_PRICE.xml'\n",
    "\n",
    "bf = open(resourceDir + 'BASIS-CONDITION.txt', 'r', encoding='utf-8')\n",
    "\n",
    "lineText = bf.readline() # 제목\n",
    "\n",
    "while True:\n",
    "    lineText = bf.readline()\n",
    "    if not lineText:\n",
    "        break\n",
    "        \n",
    "    lineText = lineText.strip()\n",
    "    if len(lineText) <= 0:\n",
    "        continue\n",
    "        \n",
    "    dayData = lineText.split('\\t')\n",
    "    \n",
    "    # 금년만 계산하려면 아래 라인 살리기. 이전 년도는 BASIS가 바뀌지 않는한 변함 없음\n",
    "    if dayData[0] != today()[0:4]: continue\n",
    "    \n",
    "    parameter = {\n",
    "        'YEAR': dayData[0],\n",
    "        'OUT_PATH': temporaryPath,\n",
    "        'COND': dayData[1],\n",
    "        'DO_SERVER': '13.124.29.70'\n",
    "    }\n",
    "\n",
    "    print(dayData[0], 'ret code', runDashScript(scriptPathName, parameter))\n",
    "\n",
    "bf.close()"
   ]
  },
  {
   "cell_type": "code",
   "execution_count": null,
   "metadata": {},
   "outputs": [],
   "source": []
  },
  {
   "cell_type": "code",
   "execution_count": 8,
   "metadata": {},
   "outputs": [
    {
     "name": "stdout",
     "output_type": "stream",
     "text": [
      "java -Dfile.encoding=utf8 -Duser.timezone=GMT -jar D:\\work\\jupyter\\krx\\jar\\crawlego-1.0.0.jar D:\\work\\jupyter\\krx\\script\\ZTMP_MERGE_PRICE.xml IN_PATH=D:\\work\\jupyter\\krx\\intermediate\\ DO_SERVER=13.124.29.70\n",
      "ret code 1\n"
     ]
    }
   ],
   "source": [
    "# SP-4. 기준이 되는 날짜의 주가를 하나로 합쳐 DB에 업로딩.\n",
    "\n",
    "scriptPathName = crawlegoScriptPath + 'ZTMP_MERGE_PRICE.xml'\n",
    "\n",
    "parameter = {\n",
    "    'IN_PATH': temporaryPath,\n",
    "    'DO_SERVER': '13.124.29.70'\n",
    "}\n",
    "\n",
    "print('ret code', runDashScript(scriptPathName, parameter))"
   ]
  },
  {
   "cell_type": "code",
   "execution_count": null,
   "metadata": {},
   "outputs": [],
   "source": []
  },
  {
   "cell_type": "code",
   "execution_count": null,
   "metadata": {},
   "outputs": [],
   "source": []
  },
  {
   "cell_type": "code",
   "execution_count": null,
   "metadata": {},
   "outputs": [],
   "source": []
  },
  {
   "cell_type": "code",
   "execution_count": null,
   "metadata": {},
   "outputs": [],
   "source": []
  }
 ],
 "metadata": {
  "kernelspec": {
   "display_name": "Python 3",
   "language": "python",
   "name": "python3"
  },
  "language_info": {
   "codemirror_mode": {
    "name": "ipython",
    "version": 3
   },
   "file_extension": ".py",
   "mimetype": "text/x-python",
   "name": "python",
   "nbconvert_exporter": "python",
   "pygments_lexer": "ipython3",
   "version": "3.7.6"
  }
 },
 "nbformat": 4,
 "nbformat_minor": 4
}
