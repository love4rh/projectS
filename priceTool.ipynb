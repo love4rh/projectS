{
 "cells": [
  {
   "cell_type": "code",
   "execution_count": 1,
   "metadata": {},
   "outputs": [
    {
     "name": "stdout",
     "output_type": "stream",
     "text": [
      "running on Windows\n"
     ]
    }
   ],
   "source": [
    "#-*- coding:utf-8 -*-\n",
    "from commonTool import *\n",
    "from config import *\n"
   ]
  },
  {
   "cell_type": "code",
   "execution_count": null,
   "metadata": {},
   "outputs": [],
   "source": []
  },
  {
   "cell_type": "code",
   "execution_count": 3,
   "metadata": {},
   "outputs": [
    {
     "name": "stdout",
     "output_type": "stream",
     "text": [
      "no data\n",
      "20210611 done\n",
      "20210610 done\n",
      "20210609 done\n",
      "20210608 done\n",
      "20210607 done\n",
      "no data\n",
      "no data\n",
      "20210604 done\n",
      "20210603 done\n",
      "20210602 done\n",
      "20210601 done\n",
      "20210531 done\n",
      "no data\n",
      "no data\n",
      "20210528 done\n",
      "20210527 done\n",
      "20210526 done\n",
      "20210525 done\n",
      "20210524 done\n",
      "no data\n",
      "no data\n",
      "20210521 done\n",
      "20210520 done\n",
      "no data\n",
      "Done\n"
     ]
    }
   ],
   "source": [
    "outputDirPath = resourceDir + 'priceDaily' + os.path.sep\n",
    "mkdir(outputDirPath)\n",
    "\n",
    "d = dt.datetime.today()\n",
    "d = d - dt.timedelta(days=1)\n",
    "dayNo = d.strftime('%Y%m%d')\n",
    "\n",
    "while dayNo > '20210518':\n",
    "    writeDailyPriceFromKRX(dayNo, outputDirPath)\n",
    "    d = d - dt.timedelta(days=1)\n",
    "    dayNo = d.strftime('%Y%m%d')\n",
    "\n",
    "print(\"Done\")"
   ]
  },
  {
   "cell_type": "code",
   "execution_count": null,
   "metadata": {},
   "outputs": [],
   "source": []
  },
  {
   "cell_type": "code",
   "execution_count": null,
   "metadata": {},
   "outputs": [],
   "source": []
  }
 ],
 "metadata": {
  "kernelspec": {
   "display_name": "Python 3",
   "language": "python",
   "name": "python3"
  },
  "language_info": {
   "codemirror_mode": {
    "name": "ipython",
    "version": 3
   },
   "file_extension": ".py",
   "mimetype": "text/x-python",
   "name": "python",
   "nbconvert_exporter": "python",
   "pygments_lexer": "ipython3",
   "version": "3.7.6"
  }
 },
 "nbformat": 4,
 "nbformat_minor": 4
}
