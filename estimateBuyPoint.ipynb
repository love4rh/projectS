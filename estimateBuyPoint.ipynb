{
 "cells": [
  {
   "cell_type": "code",
   "execution_count": 1,
   "id": "2ef0d721",
   "metadata": {},
   "outputs": [
    {
     "name": "stdout",
     "output_type": "stream",
     "text": [
      "running on OS X\n"
     ]
    }
   ],
   "source": [
    "#-*- coding:utf-8 -*-\n",
    "from commonTool import *\n",
    "import glob\n"
   ]
  },
  {
   "cell_type": "code",
   "execution_count": 2,
   "id": "9f912132",
   "metadata": {},
   "outputs": [
    {
     "name": "stdout",
     "output_type": "stream",
     "text": [
      ">>>>>>> setup company codes started\n",
      "codes 2570 2570 501\n",
      "<<<<<<< setup company codes done 16 ms\n"
     ]
    }
   ],
   "source": [
    "# 1. 데이터를 가져올 회사 정보 가져 오기\n",
    "jobName = 'setup company codes'\n",
    "begin(jobName)\n",
    "\n",
    "(codes, types, referCodes) = getCompanyCodeFromFile(codePathFile)\n",
    "print('codes', len(codes), len(types), len(referCodes)) # 첫 번째, 두 번째 값 같아야 함.\n",
    "\n",
    "end(jobName)"
   ]
  },
  {
   "cell_type": "code",
   "execution_count": 6,
   "id": "ab996be9",
   "metadata": {},
   "outputs": [
    {
     "name": "stdout",
     "output_type": "stream",
     "text": [
      "098120 running...\n",
      "098120 returns 256\n",
      "131100 running...\n",
      "131100 returns 256\n",
      "done\n"
     ]
    }
   ],
   "source": [
    "# 2. 계산\n",
    "# 로직 스크립트\n",
    "scriptPathName = crawlegoScriptPath + 'GUESS-BP.xml'\n",
    "\n",
    "# 결과 저장 위치\n",
    "resultFolder = outputRawPath + 'buyPoint' + os.path.sep\n",
    "# [os.remove(f) for f in glob.glob(resultFolder + '*.txt')]\n",
    "mkdir(resultFolder)\n",
    "\n",
    "\n",
    "for code in codes[:2]:\n",
    "    parameter = {\n",
    "        'COMP_CODE': code,\n",
    "        'OUT_PATH': resultFolder + (os.path.sep if runServerType == 1 else ''),\n",
    "        'DO_SERVER': '13.124.29.70'\n",
    "    }\n",
    "    \n",
    "    print(code, 'running...')\n",
    "    retCode = runDashScript(scriptPathName, parameter, False)\n",
    "    print(code, 'returns', retCode)\n",
    "\n",
    "print('done')"
   ]
  },
  {
   "cell_type": "code",
   "execution_count": null,
   "id": "7cdf2eae",
   "metadata": {},
   "outputs": [],
   "source": []
  }
 ],
 "metadata": {
  "kernelspec": {
   "display_name": "Python 3",
   "language": "python",
   "name": "python3"
  },
  "language_info": {
   "codemirror_mode": {
    "name": "ipython",
    "version": 3
   },
   "file_extension": ".py",
   "mimetype": "text/x-python",
   "name": "python",
   "nbconvert_exporter": "python",
   "pygments_lexer": "ipython3",
   "version": "3.9.4"
  }
 },
 "nbformat": 4,
 "nbformat_minor": 5
}
