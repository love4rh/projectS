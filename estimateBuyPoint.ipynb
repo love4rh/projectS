{
 "cells": [
  {
   "cell_type": "code",
   "execution_count": 2,
   "metadata": {},
   "outputs": [
    {
     "name": "stdout",
     "output_type": "stream",
     "text": [
      "running on Windows\n"
     ]
    }
   ],
   "source": [
    "#-*- coding:utf-8 -*-\n",
    "from commonTool import *\n",
    "import glob\n"
   ]
  },
  {
   "cell_type": "code",
   "execution_count": 3,
   "metadata": {},
   "outputs": [
    {
     "name": "stdout",
     "output_type": "stream",
     "text": [
      ">>>>>>> setup company codes started\n",
      "codes 2579 2579 500\n",
      "<<<<<<< setup company codes done 12 ms\n"
     ]
    }
   ],
   "source": [
    "# 1. 데이터를 가져올 회사 정보 가져 오기\n",
    "jobName = 'setup company codes'\n",
    "begin(jobName)\n",
    "\n",
    "(codes, types, referCodes) = getCompanyCodeFromFile(codePathFile)\n",
    "print('codes', len(codes), len(types), len(referCodes)) # 첫 번째, 두 번째 값 같아야 함.\n",
    "\n",
    "end(jobName)"
   ]
  },
  {
   "cell_type": "code",
   "execution_count": 8,
   "metadata": {},
   "outputs": [
    {
     "name": "stdout",
     "output_type": "stream",
     "text": [
      "098120 running...\n",
      "098120 returns 0\n",
      "131100 running...\n",
      "131100 returns 0\n",
      "second step running...\n",
      "done\n"
     ]
    }
   ],
   "source": [
    "# 2. 계산\n",
    "# 로직 스크립트\n",
    "scriptPathName = crawlegoScriptPath + 'GUESS-BP.xml'\n",
    "\n",
    "# 결과 저장 위치\n",
    "resultFolder = outputRawPath + 'chartData' + os.path.sep\n",
    "resultFolder2 = outputRawPath + 'buyPoint' + os.path.sep\n",
    "\n",
    "mkdir(resultFolder)\n",
    "mkdir(resultFolder2)\n",
    "\n",
    "[os.remove(f) for f in glob.glob(resultFolder2 + 'S*.txt')]\n",
    "\n",
    "\n",
    "for code in codes:\n",
    "    parameter = {\n",
    "        'COMP_CODE': code,\n",
    "        'OUT_PATH': resultFolder + (os.path.sep if runServerType == 1 else ''),\n",
    "        'OUT_PATH2': resultFolder2 + (os.path.sep if runServerType == 1 else ''),\n",
    "        'DO_SERVER': '13.124.29.70'\n",
    "    }\n",
    "    \n",
    "    print(code, 'running...')\n",
    "    retCode = runDashScript(scriptPathName, parameter, False)\n",
    "    print(code, 'returns', retCode)\n",
    "\n",
    "\n",
    "print('second step running...')\n",
    "scriptPathName = crawlegoScriptPath + 'GUESS-BP-MERGE.xml'\n",
    "parameter = {\n",
    "    'IN_PATH': resultFolder2 + (os.path.sep if runServerType == 1 else ''),\n",
    "    'DO_SERVER': '13.124.29.70'\n",
    "}\n",
    "\n",
    "runDashScript(scriptPathName, parameter, False)\n",
    "    \n",
    "print('done')"
   ]
  },
  {
   "cell_type": "code",
   "execution_count": null,
   "metadata": {},
   "outputs": [],
   "source": []
  }
 ],
 "metadata": {
  "kernelspec": {
   "display_name": "Python 3",
   "language": "python",
   "name": "python3"
  },
  "language_info": {
   "codemirror_mode": {
    "name": "ipython",
    "version": 3
   },
   "file_extension": ".py",
   "mimetype": "text/x-python",
   "name": "python",
   "nbconvert_exporter": "python",
   "pygments_lexer": "ipython3",
   "version": "3.7.6"
  }
 },
 "nbformat": 4,
 "nbformat_minor": 5
}
