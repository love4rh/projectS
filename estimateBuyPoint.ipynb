{
 "cells": [
  {
   "cell_type": "code",
   "execution_count": 1,
   "metadata": {},
   "outputs": [
    {
     "name": "stdout",
     "output_type": "stream",
     "text": [
      "running on Windows\n"
     ]
    }
   ],
   "source": [
    "#-*- coding:utf-8 -*-\n",
    "from commonTool import *\n",
    "import glob\n"
   ]
  },
  {
   "cell_type": "code",
   "execution_count": 3,
   "metadata": {},
   "outputs": [
    {
     "name": "stdout",
     "output_type": "stream",
     "text": [
      ">>>>>>> setup company codes started\n",
      "codes 300\n",
      "<<<<<<< setup company codes done 3 ms\n"
     ]
    }
   ],
   "source": [
    "# 1. 데이터를 가져올 회사 정보 가져 오기\n",
    "jobName = 'setup company codes'\n",
    "begin(jobName)\n",
    "\n",
    "guessBPFile = resourceDir + 'guessBPItem.txt'\n",
    "\n",
    "codes = []\n",
    "fileCodes = open(guessBPFile, 'r', encoding='utf-8')\n",
    "line = fileCodes.readline() # Title\n",
    "\n",
    "while True:\n",
    "    line = fileCodes.readline()\n",
    "    if not line:\n",
    "        break\n",
    "\n",
    "    line = line.strip()\n",
    "    if len(line) <= 0:\n",
    "        continue\n",
    "\n",
    "    items = line.split('\\t')\n",
    "\n",
    "    codes.append(items[0])\n",
    "    \n",
    "fileCodes.close()\n",
    "print('codes', len(codes))\n",
    "\n",
    "end(jobName)"
   ]
  },
  {
   "cell_type": "code",
   "execution_count": 4,
   "metadata": {},
   "outputs": [
    {
     "name": "stdout",
     "output_type": "stream",
     "text": [
      "005930 running...\n",
      "005930 returns 0\n",
      "000660 running...\n",
      "000660 returns 0\n",
      "035420 running...\n",
      "035420 returns 0\n",
      "207940 running...\n",
      "207940 returns 0\n",
      "005935 running...\n",
      "005935 returns 0\n",
      "051910 running...\n",
      "051910 returns 0\n",
      "035720 running...\n",
      "035720 returns 0\n",
      "006400 running...\n",
      "006400 returns 0\n",
      "005380 running...\n",
      "005380 returns 0\n",
      "068270 running...\n",
      "068270 returns 0\n",
      "000270 running...\n",
      "000270 returns 0\n",
      "005490 running...\n",
      "005490 returns 0\n",
      "012330 running...\n",
      "012330 returns 0\n",
      "028260 running...\n"
     ]
    },
    {
     "ename": "KeyboardInterrupt",
     "evalue": "",
     "output_type": "error",
     "traceback": [
      "\u001b[1;31m---------------------------------------------------------------------------\u001b[0m",
      "\u001b[1;31mKeyboardInterrupt\u001b[0m                         Traceback (most recent call last)",
      "\u001b[1;32m<ipython-input-4-5b98b6926dfc>\u001b[0m in \u001b[0;36m<module>\u001b[1;34m\u001b[0m\n\u001b[0;32m      9\u001b[0m \u001b[1;33m\u001b[0m\u001b[0m\n\u001b[0;32m     10\u001b[0m     \u001b[0mprint\u001b[0m\u001b[1;33m(\u001b[0m\u001b[0mcode\u001b[0m\u001b[1;33m,\u001b[0m \u001b[1;34m'running...'\u001b[0m\u001b[1;33m)\u001b[0m\u001b[1;33m\u001b[0m\u001b[1;33m\u001b[0m\u001b[0m\n\u001b[1;32m---> 11\u001b[1;33m     \u001b[0mretCode\u001b[0m \u001b[1;33m=\u001b[0m \u001b[0mrunDashScript\u001b[0m\u001b[1;33m(\u001b[0m\u001b[0mscriptPathName\u001b[0m\u001b[1;33m,\u001b[0m \u001b[0mparameter\u001b[0m\u001b[1;33m,\u001b[0m \u001b[1;32mFalse\u001b[0m\u001b[1;33m)\u001b[0m\u001b[1;33m\u001b[0m\u001b[1;33m\u001b[0m\u001b[0m\n\u001b[0m\u001b[0;32m     12\u001b[0m     \u001b[0mprint\u001b[0m\u001b[1;33m(\u001b[0m\u001b[0mcode\u001b[0m\u001b[1;33m,\u001b[0m \u001b[1;34m'returns'\u001b[0m\u001b[1;33m,\u001b[0m \u001b[0mretCode\u001b[0m\u001b[1;33m)\u001b[0m\u001b[1;33m\u001b[0m\u001b[1;33m\u001b[0m\u001b[0m\n",
      "\u001b[1;32mD:\\work\\jupyter\\krx\\commonTool.py\u001b[0m in \u001b[0;36mrunDashScript\u001b[1;34m(scriptPathName, parameter, display)\u001b[0m\n\u001b[0;32m     61\u001b[0m         \u001b[0mprint\u001b[0m\u001b[1;33m(\u001b[0m\u001b[0mcmdStr\u001b[0m\u001b[1;33m,\u001b[0m \u001b[0mflush\u001b[0m\u001b[1;33m=\u001b[0m\u001b[1;32mTrue\u001b[0m\u001b[1;33m)\u001b[0m\u001b[1;33m\u001b[0m\u001b[1;33m\u001b[0m\u001b[0m\n\u001b[0;32m     62\u001b[0m \u001b[1;33m\u001b[0m\u001b[0m\n\u001b[1;32m---> 63\u001b[1;33m     \u001b[0mretCode\u001b[0m \u001b[1;33m=\u001b[0m \u001b[0mos\u001b[0m\u001b[1;33m.\u001b[0m\u001b[0msystem\u001b[0m\u001b[1;33m(\u001b[0m\u001b[0mcmdStr\u001b[0m\u001b[1;33m)\u001b[0m\u001b[1;33m\u001b[0m\u001b[1;33m\u001b[0m\u001b[0m\n\u001b[0m\u001b[0;32m     64\u001b[0m \u001b[1;33m\u001b[0m\u001b[0m\n\u001b[0;32m     65\u001b[0m     \u001b[1;32mreturn\u001b[0m \u001b[0mretCode\u001b[0m\u001b[1;33m\u001b[0m\u001b[1;33m\u001b[0m\u001b[0m\n",
      "\u001b[1;31mKeyboardInterrupt\u001b[0m: "
     ]
    }
   ],
   "source": [
    "# 로컬에서 결과만 뽑기 위해 실행\n",
    "scriptPathName = crawlegoScriptPath + 'UPDOWN' + os.path.sep + '_POC2_.xml'\n",
    "\n",
    "for code in codes:\n",
    "    parameter = {\n",
    "        'COMP_CODE': code,\n",
    "        'DO_SERVER': '13.124.29.70'\n",
    "    }\n",
    "    \n",
    "    print(code, 'running...')\n",
    "    retCode = runDashScript(scriptPathName, parameter, False)\n",
    "    print(code, 'returns', retCode)"
   ]
  },
  {
   "cell_type": "code",
   "execution_count": null,
   "metadata": {},
   "outputs": [],
   "source": []
  },
  {
   "cell_type": "code",
   "execution_count": null,
   "metadata": {},
   "outputs": [],
   "source": []
  },
  {
   "cell_type": "code",
   "execution_count": 8,
   "metadata": {},
   "outputs": [
    {
     "name": "stdout",
     "output_type": "stream",
     "text": [
      "098120 running...\n",
      "098120 returns 0\n",
      "131100 running...\n",
      "131100 returns 0\n",
      "second step running...\n",
      "done\n"
     ]
    }
   ],
   "source": [
    "# 2. 계산\n",
    "# 로직 스크립트\n",
    "scriptPathName = crawlegoScriptPath + 'GUESS-BP.xml'\n",
    "\n",
    "# 결과 저장 위치\n",
    "resultFolder = outputRawPath + 'chartData' + os.path.sep\n",
    "resultFolder2 = outputRawPath + 'buyPoint' + os.path.sep\n",
    "\n",
    "mkdir(resultFolder)\n",
    "mkdir(resultFolder2)\n",
    "\n",
    "[os.remove(f) for f in glob.glob(resultFolder2 + 'S*.txt')]\n",
    "\n",
    "\n",
    "for code in codes:\n",
    "    parameter = {\n",
    "        'COMP_CODE': code,\n",
    "        'OUT_PATH': resultFolder + (os.path.sep if runServerType == 1 else ''),\n",
    "        'OUT_PATH2': resultFolder2 + (os.path.sep if runServerType == 1 else ''),\n",
    "        'DO_SERVER': '13.124.29.70'\n",
    "    }\n",
    "    \n",
    "    print(code, 'running...')\n",
    "    retCode = runDashScript(scriptPathName, parameter, False)\n",
    "    print(code, 'returns', retCode)\n",
    "\n",
    "\n",
    "print('second step running...')\n",
    "scriptPathName = crawlegoScriptPath + 'GUESS-BP-MERGE.xml'\n",
    "parameter = {\n",
    "    'IN_PATH': resultFolder2 + (os.path.sep if runServerType == 1 else ''),\n",
    "    'DO_SERVER': '13.124.29.70'\n",
    "}\n",
    "\n",
    "runDashScript(scriptPathName, parameter, False)\n",
    "    \n",
    "print('done')"
   ]
  },
  {
   "cell_type": "code",
   "execution_count": null,
   "metadata": {},
   "outputs": [],
   "source": []
  }
 ],
 "metadata": {
  "kernelspec": {
   "display_name": "Python 3",
   "language": "python",
   "name": "python3"
  },
  "language_info": {
   "codemirror_mode": {
    "name": "ipython",
    "version": 3
   },
   "file_extension": ".py",
   "mimetype": "text/x-python",
   "name": "python",
   "nbconvert_exporter": "python",
   "pygments_lexer": "ipython3",
   "version": "3.7.6"
  }
 },
 "nbformat": 4,
 "nbformat_minor": 5
}
