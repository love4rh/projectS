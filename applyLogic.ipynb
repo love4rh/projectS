{
 "cells": [
  {
   "cell_type": "code",
   "execution_count": 6,
   "metadata": {},
   "outputs": [],
   "source": [
    "#-*- coding:utf-8 -*-\n",
    "from commonTool import *\n"
   ]
  },
  {
   "cell_type": "code",
   "execution_count": null,
   "metadata": {},
   "outputs": [],
   "source": []
  },
  {
   "cell_type": "code",
   "execution_count": 9,
   "metadata": {},
   "outputs": [],
   "source": [
    "# 기준일 로딩\n",
    "\n",
    "bf = open(resourceDir + 'BASIS-DAYS.txt', 'r', encoding='utf-8')\n",
    "\n",
    "# 0.YYYYMM, 1.FIRST_DAY, 2.SECOND_DAY, 3.PREV_DAY, 4.LAST_DAY, 5.NEXT_DAY\n",
    "lineText = bf.readline() # 제목\n",
    "\n",
    "basisDays = []\n",
    "\n",
    "while True:\n",
    "    lineText = bf.readline()\n",
    "    if not lineText:\n",
    "        break\n",
    "        \n",
    "    lineText = lineText.strip()\n",
    "    if len(lineText) <= 0:\n",
    "        continue\n",
    "\n",
    "    dayData = lineText.split('\\t')\n",
    "    basisDays.append([dayData[0], dayData[3], dayData[4]])\n",
    "\n",
    "bf.close()\n"
   ]
  },
  {
   "cell_type": "code",
   "execution_count": null,
   "metadata": {},
   "outputs": [],
   "source": []
  },
  {
   "cell_type": "code",
   "execution_count": 34,
   "metadata": {},
   "outputs": [
    {
     "name": "stdout",
     "output_type": "stream",
     "text": [
      "1\t20140530\t20150529\t3709550\t13709550\t0.370955\t0.3709549999999999\n",
      "2\t20150529\t20160531\t934522\t14644072\t0.06816576765831117\t0.21012693549065342\n",
      "3\t20160531\t20170531\t3803655\t18447727\t0.25974025530603784\t0.22644371226868065\n",
      "4\t20170531\t20180531\t5589732\t24037459\t0.30300383348040655\t0.2451513366390794\n",
      "5\t20180531\t20190531\t-3002706\t21034753\t-0.12491777937093933\t0.1603459301751573\n",
      "6\t20190531\t20200529\t-2570845\t18463908\t-0.12221892978729058\t0.10761102819961099\n",
      "7\t20200529\t20210531\t14727841\t33191749\t0.7976556750607726\t0.18695123540474912\n",
      "8\t20210531\t20210621\t1210170\t34401919\t0.03645996479426258\t0.1670053139871166\n"
     ]
    }
   ],
   "source": [
    "scriptPathName = crawlegoScriptPath + 'APPLY_LOGIC.xml'\n",
    "\n",
    "resultFolder = outputRawPath + 'logicResult' + os.path.sep\n",
    "mkdir(resultFolder)\n",
    "\n",
    "# 초기 투자금\n",
    "inital_cash = 10000000\n",
    "\n",
    "y = 0\n",
    "cash = inital_cash\n",
    "for i in range(3, len(basisDays), 12):\n",
    "    basis = basisDays[i]\n",
    "    sellIdx = min(i + 12, len(basisDays) - 1)\n",
    "    \n",
    "    parameter = {\n",
    "        'BASIS_DAY': basis[1],\n",
    "        'BUY_DAY': basis[2],\n",
    "        'SELL_DAY': basisDays[sellIdx][2],\n",
    "        'CASH': str(cash),\n",
    "        'TOP_N': '20',\n",
    "        'OUT_PATH': resultFolder + os.path.sep, # sep이 '/' 라면 더할 필요 없음\n",
    "        'DO_SERVER': '13.124.29.70'\n",
    "    }\n",
    "\n",
    "    y += 1\n",
    "    retCode = runDashScript(scriptPathName, parameter, False)\n",
    "    \n",
    "    if retCode != 0:\n",
    "        print(basis[0], 'ret code', retCode)\n",
    "        continue\n",
    "\n",
    "    # 결과 정리\n",
    "    statPath = resultFolder + basis[1] + '-STAT.txt'\n",
    "    sf = open(statPath, 'r', encoding='utf-8')\n",
    "    lineText = sf.readline() # 제목: 매수일, 매도일, R_SUM\n",
    "    lineText = sf.readline() # 결과\n",
    "    rec = lineText.split('\\t')\n",
    "    profitLoss = int(rec[2])\n",
    "    \n",
    "    newCash = cash + profitLoss\n",
    "    \n",
    "    print('\\t'.join([str(y), rec[0], rec[1], str(profitLoss), str(newCash), str(profitLoss / cash), str(pow(newCash / inital_cash, 1 / y) - 1)]))\n",
    "    \n",
    "    sf.close()\n",
    "    cash = newCash;\n",
    "    \n",
    "    # itemPath = resultFolder + basis[1] + '-RESULT.txt'\n",
    "    # rf = open(itemPath, 'r', encoding='utf-8')\n",
    "    \n",
    "    # rf.close()\n",
    "    \n",
    "    # end of for\n",
    "    \n",
    "# end of script"
   ]
  },
  {
   "cell_type": "code",
   "execution_count": null,
   "metadata": {},
   "outputs": [],
   "source": []
  },
  {
   "cell_type": "code",
   "execution_count": 33,
   "metadata": {},
   "outputs": [
    {
     "name": "stdout",
     "output_type": "stream",
     "text": [
      "1\t20140228\t20150227\t2688974\t12688974\t0.2688974\t0.26889739999999995\n",
      "2\t20150227\t20160229\t2986901\t15675875\t0.2353934210914137\t0.25203334620129025\n",
      "3\t20160229\t20170228\t5989551\t21665426\t0.38208718811549597\t0.2939646470310391\n",
      "4\t20170228\t20180228\t4276450\t25941876\t0.19738591800595104\t0.2691131519682979\n",
      "5\t20180228\t20190228\t-82693\t25859183\t-0.003187626060659607\t0.20926911187607877\n",
      "6\t20190228\t20200228\t-312774\t25546409\t-0.012095277720104304\t0.16919866327446598\n",
      "7\t20200228\t20210226\t11801409\t37347818\t0.46195960457690943\t0.20712481054960485\n",
      "8\t20210226\t20210621\t16393515\t53741333\t0.43894170738435107\t0.23392440603094666\n",
      "max mdd 1.524434855829239\n"
     ]
    }
   ],
   "source": [
    "# 결과만 다시 보기\n",
    "\n",
    "y = 0\n",
    "cash = inital_cash\n",
    "\n",
    "maxV = inital_cash\n",
    "maxMdd = 0\n",
    "for i in range(3, len(basisDays), 12):\n",
    "    y += 1\n",
    "    basis = basisDays[i]\n",
    "\n",
    "    # 결과 정리\n",
    "    statPath = resultFolder + basis[1] + '-STAT.txt'\n",
    "    sf = open(statPath, 'r', encoding='utf-8')\n",
    "    lineText = sf.readline() # 제목: 매수일, 매도일, R_SUM\n",
    "    lineText = sf.readline() # 결과\n",
    "    rec = lineText.split('\\t')\n",
    "    profitLoss = int(rec[2])\n",
    "    \n",
    "    newCash = cash + profitLoss\n",
    "    \n",
    "    maxV = max(maxV, newCash)\n",
    "    if newCash < cash:\n",
    "        mdd = (newCash - maxV) / maxV\n",
    "        maxMdd = min(mdd, maxMdd)\n",
    "\n",
    "    print('\\t'.join([str(y), rec[0], rec[1], str(profitLoss), str(newCash),\n",
    "        str(profitLoss / cash), str(pow(newCash / inital_cash, 1 / y) - 1)]))\n",
    "    \n",
    "    sf.close()\n",
    "    cash = newCash;\n",
    "    \n",
    "    # itemPath = resultFolder + basis[1] + '-RESULT.txt'\n",
    "    # rf = open(itemPath, 'r', encoding='utf-8')\n",
    "    \n",
    "    # rf.close()\n",
    "\n",
    "print('max mdd', maxMdd * -100)\n",
    "# end of script"
   ]
  },
  {
   "cell_type": "code",
   "execution_count": null,
   "metadata": {},
   "outputs": [],
   "source": []
  },
  {
   "cell_type": "code",
   "execution_count": null,
   "metadata": {},
   "outputs": [],
   "source": []
  },
  {
   "cell_type": "code",
   "execution_count": null,
   "metadata": {},
   "outputs": [],
   "source": []
  }
 ],
 "metadata": {
  "kernelspec": {
   "display_name": "Python 3",
   "language": "python",
   "name": "python3"
  },
  "language_info": {
   "codemirror_mode": {
    "name": "ipython",
    "version": 3
   },
   "file_extension": ".py",
   "mimetype": "text/x-python",
   "name": "python",
   "nbconvert_exporter": "python",
   "pygments_lexer": "ipython3",
   "version": "3.7.6"
  }
 },
 "nbformat": 4,
 "nbformat_minor": 4
}
