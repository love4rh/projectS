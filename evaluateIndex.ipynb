{
 "cells": [
  {
   "cell_type": "code",
   "execution_count": 2,
   "metadata": {
    "scrolled": true
   },
   "outputs": [
    {
     "name": "stdout",
     "output_type": "stream",
     "text": [
      "running on Windows\n"
     ]
    }
   ],
   "source": [
    "#-*- coding:utf-8 -*-\n",
    "from commonTool import *\n"
   ]
  },
  {
   "cell_type": "code",
   "execution_count": null,
   "metadata": {},
   "outputs": [],
   "source": []
  },
  {
   "cell_type": "code",
   "execution_count": null,
   "metadata": {},
   "outputs": [],
   "source": [
    "# 1. 빠른 실행을 위하여 기초 데이터 로컬에 저장해 놓기\n",
    "# 기업 데이터가 변경된 경우에 한 번씩 해 주면 됨.\n",
    "def saveAnnualBCP():\n",
    "    jobName = 'prepare to evaluate index'\n",
    "\n",
    "    begin(jobName)\n",
    "    workingDataPath = outputRawPath\n",
    "    mkdir(workingDataPath)\n",
    "\n",
    "    scriptPathName = crawlegoScriptPath + 'EVALUATE-PREPARE.xml'\n",
    "\n",
    "    parameter = {\n",
    "        'OUT_PATH': workingDataPath,\n",
    "        'DO_SERVER': '13.124.29.70'\n",
    "    }\n",
    "\n",
    "    print('ret code', runDashScript(scriptPathName, parameter))\n",
    "\n",
    "    end(jobName)\n",
    "\n",
    "\n",
    "# saveAnnualBCP()"
   ]
  },
  {
   "cell_type": "code",
   "execution_count": null,
   "metadata": {},
   "outputs": [],
   "source": []
  },
  {
   "cell_type": "code",
   "execution_count": 6,
   "metadata": {},
   "outputs": [
    {
     "name": "stdout",
     "output_type": "stream",
     "text": [
      "java -Dfile.encoding=utf8 -Duser.timezone=GMT -jar D:\\work\\jupyter\\krx\\jar\\crawlego-1.0.0.jar D:\\work\\jupyter\\krx\\script\\EVALUATE-INDEX.xml \"IN_PATH=D:\\work\\jupyter\\krx\\output\\\\\" \"OUT_PATH=D:\\work\\jupyter\\krx\\output\\index\\\\\" \"RES_PATH=D:\\work\\jupyter\\krx\\resource\\\" \"BASIS_DATE=20130227\" \"DO_SERVER=13.124.29.70\"\n",
      "201302 index ret code 0\n"
     ]
    }
   ],
   "source": [
    "# 2. 지표를 계산하여 저장하는 스크립트 실행\n",
    "cachedDataPath = outputRawPath\n",
    "\n",
    "workingDataPath = outputRawPath + 'index' + os.path.sep\n",
    "mkdir(workingDataPath)\n",
    "\n",
    "scriptPathName = crawlegoScriptPath + 'EVALUATE-INDEX.xml'\n",
    "\n",
    "bf = open(resourceDir + 'BASIS-DAYS.txt', 'r', encoding='utf-8')\n",
    "\n",
    "lineText = bf.readline() # 제목\n",
    "\n",
    "while True:\n",
    "    lineText = bf.readline()\n",
    "    if not lineText:\n",
    "        break\n",
    "        \n",
    "    lineText = lineText.strip()\n",
    "    if len(lineText) <= 0:\n",
    "        continue\n",
    "\n",
    "    # 0.YYYYMM, 1.FIRST_DAY, 2.SECOND_DAY, 3.PREV_DAY, 4.LAST_DAY, 5.NEXT_DAY\n",
    "    dayData = lineText.split('\\t')\n",
    "\n",
    "    parameter = {\n",
    "        'IN_PATH': cachedDataPath + (os.path.sep if runServerType == 1 else ''),\n",
    "        'OUT_PATH': workingDataPath + (os.path.sep if runServerType == 1 else ''),\n",
    "        'RES_PATH': resourceDir,\n",
    "        'BASIS_DATE': dayData[3], # 매달 마지막 전날을 기준으로 하자\n",
    "        'DO_SERVER': '13.124.29.70'\n",
    "    }\n",
    "\n",
    "    print(dayData[0], 'index ret code', runDashScript(scriptPathName, parameter))\n",
    "\n",
    "bf.close()"
   ]
  },
  {
   "cell_type": "code",
   "execution_count": null,
   "metadata": {},
   "outputs": [],
   "source": []
  },
  {
   "cell_type": "code",
   "execution_count": 7,
   "metadata": {},
   "outputs": [
    {
     "name": "stdout",
     "output_type": "stream",
     "text": [
      "java -Dfile.encoding=utf8 -Duser.timezone=GMT -jar D:\\work\\jupyter\\krx\\jar\\crawlego-1.0.0.jar D:\\work\\jupyter\\krx\\script\\EVALUATE-MM.xml \"IN_PATH=D:\\work\\jupyter\\krx\\output\\\\\" \"OUT_PATH=D:\\work\\jupyter\\krx\\output\\momentum\\\\\" \"RES_PATH=D:\\work\\jupyter\\krx\\resource\\\" \"BASIS_DATE=20130227\" \"DO_SERVER=13.124.29.70\"\n",
      "201302 momentum ret code 0\n"
     ]
    }
   ],
   "source": [
    "# 3. 모멘텀 계산\n",
    "cachedDataPath = outputRawPath\n",
    "\n",
    "momentumDataPath = outputRawPath + 'momentum' + os.path.sep\n",
    "mkdir(momentumDataPath)\n",
    "    \n",
    "scriptPathName = crawlegoScriptPath + 'EVALUATE-MM.xml'\n",
    "\n",
    "bf = open(resourceDir + 'BASIS-DAYS.txt', 'r', encoding='utf-8')\n",
    "\n",
    "lineText = bf.readline() # 제목\n",
    "\n",
    "while True:\n",
    "    lineText = bf.readline()\n",
    "    if not lineText:\n",
    "        break\n",
    "        \n",
    "    lineText = lineText.strip()\n",
    "    if len(lineText) <= 0:\n",
    "        continue\n",
    "\n",
    "    # 0.YYYYMM, 1.FIRST_DAY, 2.SECOND_DAY, 3.PREV_DAY, 4.LAST_DAY, 5.NEXT_DAY\n",
    "    dayData = lineText.split('\\t')\n",
    "\n",
    "    parameter = {\n",
    "        'IN_PATH': cachedDataPath + (os.path.sep if runServerType == 1 else ''),\n",
    "        'OUT_PATH': momentumDataPath + (os.path.sep if runServerType == 1 else ''),\n",
    "        'RES_PATH': resourceDir,\n",
    "        'BASIS_DATE': dayData[3], # 매달 마지막 전날을 기준으로 하자\n",
    "        'DO_SERVER': '13.124.29.70'\n",
    "    }\n",
    "\n",
    "    print(dayData[0], 'momentum ret code', runDashScript(scriptPathName, parameter))\n",
    "    \n",
    "    break\n",
    "\n",
    "bf.close()"
   ]
  },
  {
   "cell_type": "code",
   "execution_count": null,
   "metadata": {},
   "outputs": [],
   "source": []
  }
 ],
 "metadata": {
  "kernelspec": {
   "display_name": "Python 3",
   "language": "python",
   "name": "python3"
  },
  "language_info": {
   "codemirror_mode": {
    "name": "ipython",
    "version": 3
   },
   "file_extension": ".py",
   "mimetype": "text/x-python",
   "name": "python",
   "nbconvert_exporter": "python",
   "pygments_lexer": "ipython3",
   "version": "3.7.6"
  }
 },
 "nbformat": 4,
 "nbformat_minor": 4
}
